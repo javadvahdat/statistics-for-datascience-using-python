{
 "cells": [
  {
   "cell_type": "markdown",
   "metadata": {},
   "source": [
    "<p style=\"text-align: center;\"><span style=\"font-family: &quot;Trebuchet MS&quot;, Helvetica, sans-serif; font-size: 24px;\"></span><span style='font-family: \"Trebuchet MS\", Helvetica, sans-serif; font-size: 30px;'><strong>p-value</strong></span></p>"
   ]
  },
  {
   "cell_type": "markdown",
   "metadata": {},
   "source": [
    "#### javad vahdat `vahdatjavad@gmail.com`"
   ]
  },
  {
   "cell_type": "markdown",
   "metadata": {},
   "source": [
    "When talking statistics, a **p-value** for a statistical model is the **probability** that when the **null hypothesis** is true."
   ]
  },
  {
   "cell_type": "markdown",
   "metadata": {},
   "source": [
    "<img src=\"media/pvalue.png\" alt=\"positively-skewed\" style=\"width:400px;height:200px;\">"
   ]
  },
  {
   "cell_type": "markdown",
   "metadata": {},
   "source": [
    "\\begin{equation}\n",
    "pvalue = P(X>x | H_0)\n",
    "\\end{equation}"
   ]
  },
  {
   "cell_type": "markdown",
   "metadata": {},
   "source": [
    "Let's do a game: \n",
    "    **Game Toss**"
   ]
  },
  {
   "cell_type": "markdown",
   "metadata": {},
   "source": [
    "\\begin{equation}\n",
    "\\begin{cases} H_0: p =\\dfrac{1}{2}\\\\ H_1: p > \\dfrac{1}{2}\\\\ \\end{cases}\n",
    "\\end{equation}"
   ]
  },
  {
   "cell_type": "markdown",
   "metadata": {},
   "source": [
    "so then calculate the p value: "
   ]
  },
  {
   "cell_type": "markdown",
   "metadata": {},
   "source": [
    "\\begin{equation}\n",
    "P(X > 6|\\;H_0)=1-P(X\\leq 5|\\;p=\\tfrac{1}{2})=\n",
    "\\end{equation}\n",
    "\\begin{equation}\n",
    "1-(\\sum_{i=1}^5 {10 \\choose i}\\tfrac{1}{2}^i\\times \\tfrac{1}{2}^{10-i})=1-0.6230=0.3770\n",
    "\\end{equation}"
   ]
  },
  {
   "cell_type": "markdown",
   "metadata": {},
   "source": [
    "<img src=\"media/p-value2.png\" alt=\"positively-skewed\" style=\"width:300px;height:200px;\">"
   ]
  },
  {
   "cell_type": "markdown",
   "metadata": {},
   "source": [
    "Remind an example: "
   ]
  },
  {
   "cell_type": "code",
   "execution_count": 1,
   "metadata": {},
   "outputs": [
    {
     "name": "stdout",
     "output_type": "stream",
     "text": [
      "mean is =  26.666666666666668\n",
      "p-values 3.461128812660706e-08 tstat =  -10.827043935570552\n",
      " we are rejecting null hypothesis\n"
     ]
    }
   ],
   "source": [
    "from scipy.stats import ttest_1samp\n",
    "import numpy as np\n",
    "\n",
    "ages = [30, 25, 15, 10, 24, 20, 19, 28, 26, 41, 37, 32, 29, 28, 36]\n",
    "ages_mean = np.mean(ages)\n",
    "print(\"mean is = \",ages_mean)\n",
    "\n",
    "tset, pval = ttest_1samp(ages, 50)\n",
    "\n",
    "print(\"p-values\",pval, \"tstat = \", tset)\n",
    "if pval < 0.05:    # alpha value is 0.05 or 5%\n",
    "   print(\" we are rejecting null hypothesis\")\n",
    "else:\n",
    "  print(\"we are accepting null hypothesis\")"
   ]
  },
  {
   "cell_type": "markdown",
   "metadata": {},
   "source": [
    "#### javad vahdat `vahdatjavad@gmail.com`"
   ]
  }
 ],
 "metadata": {
  "kernelspec": {
   "display_name": "Python 3",
   "language": "python",
   "name": "python3"
  },
  "language_info": {
   "codemirror_mode": {
    "name": "ipython",
    "version": 3
   },
   "file_extension": ".py",
   "mimetype": "text/x-python",
   "name": "python",
   "nbconvert_exporter": "python",
   "pygments_lexer": "ipython3",
   "version": "3.8.5"
  }
 },
 "nbformat": 4,
 "nbformat_minor": 4
}

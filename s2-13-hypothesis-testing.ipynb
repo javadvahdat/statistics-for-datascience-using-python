{
 "cells": [
  {
   "cell_type": "markdown",
   "metadata": {},
   "source": [
    "<p style=\"text-align: center;\"><span style=\"font-family: &quot;Trebuchet MS&quot;, Helvetica, sans-serif; font-size: 24px;\"></span><span style='font-family: \"Trebuchet MS\", Helvetica, sans-serif; font-size: 30px;'><strong>Hypothesis testing</strong></span></p>"
   ]
  },
  {
   "cell_type": "markdown",
   "metadata": {},
   "source": [
    "#### javad vahdat `vahdatjavad@gmail.com`"
   ]
  },
  {
   "cell_type": "markdown",
   "metadata": {},
   "source": [
    "Hypothesis testing is a statistical method that is used in making **statistical decisions** using experimental data. \n",
    "\n",
    "for example you said that average of math score for this class is 40, all those example we assume need some statistic way to prove those."
   ]
  },
  {
   "cell_type": "markdown",
   "metadata": {},
   "source": [
    "- **Null hypothesis**: the null hypothesis is a general statement or default position that there is no relationship between two measured phenomena, or no association among groups.\n",
    "\n",
    "\n",
    "- **Alternative hypothesis**: The alternative hypothesis is the hypothesis used in hypothesis testing that is contrary to the null hypothesis. It is usually taken to be that the observations are the result of a real effect (with some amount of chance variation superposed)."
   ]
  },
  {
   "cell_type": "markdown",
   "metadata": {},
   "source": [
    "-----------------------------------------------------------------\n",
    "-----------------------------------------------------------------"
   ]
  },
  {
   "cell_type": "markdown",
   "metadata": {},
   "source": [
    "**T test :**"
   ]
  },
  {
   "cell_type": "markdown",
   "metadata": {},
   "source": [
    " - **One Sample T-test :**\n",
    " \\begin{equation}\n",
    " \\large \\begin{cases} H_0: \\mu =\\mu_0 \\\\ \\large H_1: \\mu \\neq  \\mu_0\\\\ \\end{cases}\n",
    " \\end{equation}\n",
    " \n",
    "    - T test statistics :\n",
    "     \\begin{equation}\n",
    " \\large T=\\dfrac{\\overline{X}-\\mu_0}{\\frac{s}{\\sqrt{n}}} \\sim t_{(n-1)}\n",
    " \\end{equation}\n",
    "    "
   ]
  },
  {
   "cell_type": "code",
   "execution_count": 1,
   "metadata": {},
   "outputs": [
    {
     "name": "stdout",
     "output_type": "stream",
     "text": [
      "mean is =  26.666666666666668\n",
      "p-values 9.135977777014221e-05 tstat =  5.413521967785277\n",
      " we are rejecting null hypothesis\n"
     ]
    }
   ],
   "source": [
    "from scipy.stats import ttest_1samp\n",
    "\n",
    "import numpy as np\n",
    "\n",
    "ages = [30, 25, 15, 10, 24, 20, 19, 28, 26, 41, 37, 32, 29, 28, 36]\n",
    "\n",
    "ages_mean = np.mean(ages)\n",
    "\n",
    "print(\"mean is = \",ages_mean)\n",
    "\n",
    "tset, pval = ttest_1samp(ages, 15)\n",
    "\n",
    "print(\"p-values\",pval, \"tstat = \", tset)\n",
    "\n",
    "if pval < 0.05:    # alpha value is 0.05 or 5%\n",
    "   print(\" we are rejecting null hypothesis\")\n",
    "else:\n",
    "  print(\"we are accepting null hypothesis\")"
   ]
  },
  {
   "cell_type": "code",
   "execution_count": 2,
   "metadata": {
    "scrolled": true
   },
   "outputs": [
    {
     "name": "stdout",
     "output_type": "stream",
     "text": [
      "Statistics=0.984, p=0.991\n"
     ]
    }
   ],
   "source": [
    "from scipy.stats import shapiro\n",
    "stat, p = shapiro(ages)\n",
    "print('Statistics=%.3f, p=%.3f' % (stat, p))"
   ]
  },
  {
   "cell_type": "markdown",
   "metadata": {},
   "source": [
    "-----------------------------------------------------------------\n",
    "-----------------------------------------------------------------"
   ]
  },
  {
   "cell_type": "markdown",
   "metadata": {},
   "source": [
    " - **Two Sample T-test (independent) :**\n",
    "  \\begin{equation}\n",
    "  \\large \\begin{cases}H_0: \\mu_A =\\mu_B \\\\H_A: \\mu_A \\neq \\mu_B\\end{cases}\n",
    "  \\end{equation}"
   ]
  },
  {
   "cell_type": "markdown",
   "metadata": {},
   "source": [
    "  - test statistics :\n",
    "   \n",
    "   \\begin{equation}\n",
    "   \\large T=\\dfrac{\\overline{x}_A-\\overline{x}_B}{\\sqrt{\\frac{S^2}{n_A}+\\frac{S^2}{n_B}}} \\sim t_{(n_A+n_B-2)}\n",
    "   \\end{equation}"
   ]
  },
  {
   "cell_type": "code",
   "execution_count": 3,
   "metadata": {},
   "outputs": [
    {
     "name": "stdout",
     "output_type": "stream",
     "text": [
      "p-value 0.026007482249213187\n",
      "we reject null hypothesis\n"
     ]
    }
   ],
   "source": [
    "from scipy.stats import ttest_ind\n",
    "\n",
    "class1 = [10,12,14,18,11,13,19,20,16,15]\n",
    "class2 = [7,14,16,17,5,11,2,10,9,12]\n",
    "\n",
    "ttest,pval = ttest_ind(class1,class2)\n",
    "\n",
    "print(\"p-value\",pval)\n",
    "if pval <0.05:\n",
    "  print(\"we reject null hypothesis\")\n",
    "else:\n",
    "  print(\"we accept null hypothesis\")"
   ]
  },
  {
   "cell_type": "code",
   "execution_count": 4,
   "metadata": {},
   "outputs": [
    {
     "data": {
      "text/plain": [
       "14.8"
      ]
     },
     "execution_count": 4,
     "metadata": {},
     "output_type": "execute_result"
    }
   ],
   "source": [
    "import numpy as np\n",
    "np.mean(class1)"
   ]
  },
  {
   "cell_type": "code",
   "execution_count": 5,
   "metadata": {},
   "outputs": [
    {
     "data": {
      "text/plain": [
       "10.3"
      ]
     },
     "execution_count": 5,
     "metadata": {},
     "output_type": "execute_result"
    }
   ],
   "source": [
    "np.mean(class2)"
   ]
  },
  {
   "cell_type": "markdown",
   "metadata": {},
   "source": [
    "-----------------------------------------------------------------\n",
    "-----------------------------------------------------------------"
   ]
  },
  {
   "cell_type": "markdown",
   "metadata": {},
   "source": [
    "- **Paired Sample T-test  (Dependent Sample T-test)**\n",
    "\n",
    "\\begin{equation}\n",
    "\\large \\begin{cases}H_0: \\mu_b =\\mu_a \\\\H_A: \\mu_a \\neq \\mu_b\\end{cases}\n",
    "\\end{equation}"
   ]
  },
  {
   "cell_type": "code",
   "execution_count": 6,
   "metadata": {},
   "outputs": [
    {
     "name": "stdout",
     "output_type": "stream",
     "text": [
      "7.679870217982679e-06\n",
      "reject null hypothesis\n"
     ]
    }
   ],
   "source": [
    "from scipy.stats import ttest_rel\n",
    "\n",
    "before = [14,14.5,18,15,17,16,19,15]\n",
    "after = [12,13,15,13,15,14,16,13]\n",
    "\n",
    "ttest,pval = ttest_rel(before,after)\n",
    "\n",
    "print(pval)\n",
    "if pval<0.05:\n",
    "    print(\"reject null hypothesis\")\n",
    "else:\n",
    "    print(\"accept null hypothesis\")"
   ]
  },
  {
   "cell_type": "code",
   "execution_count": 9,
   "metadata": {},
   "outputs": [
    {
     "data": {
      "text/plain": [
       "16.0625"
      ]
     },
     "execution_count": 9,
     "metadata": {},
     "output_type": "execute_result"
    }
   ],
   "source": [
    "np.mean(before)"
   ]
  },
  {
   "cell_type": "markdown",
   "metadata": {},
   "source": [
    "#### javad vahdat `vahdatjavad@gmail.com`"
   ]
  }
 ],
 "metadata": {
  "kernelspec": {
   "display_name": "Python 3",
   "language": "python",
   "name": "python3"
  },
  "language_info": {
   "codemirror_mode": {
    "name": "ipython",
    "version": 3
   },
   "file_extension": ".py",
   "mimetype": "text/x-python",
   "name": "python",
   "nbconvert_exporter": "python",
   "pygments_lexer": "ipython3",
   "version": "3.8.5"
  }
 },
 "nbformat": 4,
 "nbformat_minor": 4
}

{
 "cells": [
  {
   "cell_type": "markdown",
   "metadata": {},
   "source": [
    "<p style=\"text-align: center;\"><span style=\"font-family: &quot;Trebuchet MS&quot;, Helvetica, sans-serif; font-size: 24px;\"></span><span style='font-family: \"Trebuchet MS\", Helvetica, sans-serif; font-size: 30px;'><strong>Bootstrap</strong></span></p>"
   ]
  },
  {
   "cell_type": "markdown",
   "metadata": {},
   "source": [
    "#### javad vahdat `vahdatjavad@gmail.com`"
   ]
  },
  {
   "cell_type": "markdown",
   "metadata": {},
   "source": [
    "<img src=\"media/bootstrap.jpg\" alt=\"positively-skewed\" style=\"width:200px;height:250px;\">"
   ]
  },
  {
   "cell_type": "markdown",
   "metadata": {},
   "source": [
    "<img src=\"media/bootstrap1.png\" alt=\"positively-skewed\" style=\"width:600px;height:250px;\">"
   ]
  },
  {
   "cell_type": "markdown",
   "metadata": {},
   "source": [
    "<img src=\"media/bootstrap2.png\" alt=\"positively-skewed\" style=\"width:500px;height:300px;\">"
   ]
  },
  {
   "cell_type": "code",
   "execution_count": 1,
   "metadata": {},
   "outputs": [],
   "source": [
    "import numpy as np\n",
    "import matplotlib.pyplot as plt"
   ]
  },
  {
   "cell_type": "code",
   "execution_count": 2,
   "metadata": {},
   "outputs": [
    {
     "data": {
      "text/plain": [
       "array([102, 435, 348, 270, 106,  71, 188,  20, 102, 121, 466, 214, 330,\n",
       "       458,  87, 372,  99, 359, 151, 130, 149, 308, 257, 343, 491, 413,\n",
       "       293, 385, 191, 443, 276, 160, 459, 313,  21, 252, 235, 344,  48,\n",
       "       474,  58, 169, 475, 187, 463, 270, 189, 445, 174, 445,  50, 363,\n",
       "        54, 243, 319, 130, 484, 306, 134,  20, 328, 166, 273, 387,  88,\n",
       "       315,  13, 241, 264, 345,  52, 385, 339,  91, 366, 443, 454, 427,\n",
       "       263, 430,  34, 205,  80, 419,  49, 359, 387,   1, 389,  53, 105,\n",
       "       259, 309, 476, 190, 401, 217,  43, 161, 201])"
      ]
     },
     "execution_count": 2,
     "metadata": {},
     "output_type": "execute_result"
    }
   ],
   "source": [
    "# construct a population pickups for our lab\n",
    "np.random.seed(42)\n",
    "\n",
    "pickups = np.random.randint(0,500 , size=100)\n",
    "pickups"
   ]
  },
  {
   "cell_type": "code",
   "execution_count": 3,
   "metadata": {},
   "outputs": [
    {
     "data": {
      "text/plain": [
       "252.7"
      ]
     },
     "execution_count": 3,
     "metadata": {},
     "output_type": "execute_result"
    }
   ],
   "source": [
    "# population mean\n",
    "pickups.mean()"
   ]
  },
  {
   "cell_type": "code",
   "execution_count": 4,
   "metadata": {},
   "outputs": [
    {
     "data": {
      "text/plain": [
       "144.25342283634035"
      ]
     },
     "execution_count": 4,
     "metadata": {},
     "output_type": "execute_result"
    }
   ],
   "source": [
    "# population standard deviation\n",
    "pickups.std()"
   ]
  },
  {
   "cell_type": "code",
   "execution_count": 5,
   "metadata": {},
   "outputs": [
    {
     "data": {
      "text/plain": [
       "array([166, 201, 458, 190, 445,  87, 385, 427, 387, 166, 474,  49, 430,\n",
       "       205,  54, 343, 413, 389,  20,  58, 191,  87, 463,  88, 389,  52,\n",
       "       102,   1, 102,  20])"
      ]
     },
     "execution_count": 5,
     "metadata": {},
     "output_type": "execute_result"
    }
   ],
   "source": [
    "# draw a sample from population\n",
    "sample = np.random.choice(pickups, size=30)\n",
    "sample"
   ]
  },
  {
   "cell_type": "code",
   "execution_count": 6,
   "metadata": {},
   "outputs": [
    {
     "data": {
      "text/plain": [
       "228.06666666666666"
      ]
     },
     "execution_count": 6,
     "metadata": {},
     "output_type": "execute_result"
    }
   ],
   "source": [
    "# our first sample mean\n",
    "sample_mean = sample.mean()\n",
    "sample_mean"
   ]
  },
  {
   "cell_type": "code",
   "execution_count": 7,
   "metadata": {},
   "outputs": [
    {
     "data": {
      "text/plain": [
       "166.96890756052164"
      ]
     },
     "execution_count": 7,
     "metadata": {},
     "output_type": "execute_result"
    }
   ],
   "source": [
    "# standard deiveation for this sample\n",
    "sample_std = np.std(sample, ddof=1)\n",
    "sample_std"
   ]
  },
  {
   "cell_type": "code",
   "execution_count": 8,
   "metadata": {},
   "outputs": [
    {
     "data": {
      "text/plain": [
       "30.48421235763086"
      ]
     },
     "execution_count": 8,
     "metadata": {},
     "output_type": "execute_result"
    }
   ],
   "source": [
    "# estimated standard error for sapmle mann\n",
    "sample_std/(30 ** 0.5)"
   ]
  },
  {
   "cell_type": "markdown",
   "metadata": {},
   "source": [
    "$\\large  S_{\\overline{X}}=\\dfrac{S_{X}}{\\sqrt{n}}$"
   ]
  },
  {
   "cell_type": "code",
   "execution_count": 9,
   "metadata": {},
   "outputs": [
    {
     "data": {
      "text/plain": [
       "26.336951228264823"
      ]
     },
     "execution_count": 9,
     "metadata": {},
     "output_type": "execute_result"
    }
   ],
   "source": [
    "# theorical standard error for sapmle mean\n",
    "pickups.std()/(30 ** 0.5)"
   ]
  },
  {
   "cell_type": "code",
   "execution_count": 10,
   "metadata": {},
   "outputs": [],
   "source": [
    "# construct the simulated sampling distribution\n",
    "sample_props = []\n",
    "for _ in range(100000):\n",
    "    sample = np.random.choice(pickups, size=30)\n",
    "    sample_props.append(sample.mean())"
   ]
  },
  {
   "cell_type": "code",
   "execution_count": 11,
   "metadata": {},
   "outputs": [
    {
     "data": {
      "text/plain": [
       "252.74267033333336"
      ]
     },
     "execution_count": 11,
     "metadata": {},
     "output_type": "execute_result"
    }
   ],
   "source": [
    "# the simulated mean of the sampling distribution\n",
    "simulated_mean = np.mean(sample_props)\n",
    "simulated_mean"
   ]
  },
  {
   "cell_type": "code",
   "execution_count": 12,
   "metadata": {},
   "outputs": [],
   "source": [
    "# the simulated standard deviation of the sampling distribution\n",
    "simulated_std = np.std(sample_props)"
   ]
  },
  {
   "cell_type": "code",
   "execution_count": 13,
   "metadata": {},
   "outputs": [
    {
     "data": {
      "image/png": "[encoded data removed]",
      "text/plain": [
       "<Figure size 432x288 with 1 Axes>"
      ]
     },
     "metadata": {
      "needs_background": "light"
     },
     "output_type": "display_data"
    }
   ],
   "source": [
    "# plot the simulated sampling distribution,\n",
    "# under the Central Limit Theorem,\n",
    "# it is expected normal\n",
    "plt.hist(sample_props);"
   ]
  },
  {
   "cell_type": "code",
   "execution_count": 14,
   "metadata": {},
   "outputs": [
    {
     "data": {
      "text/plain": [
       "(252.7, 252.74267033333336)"
      ]
     },
     "execution_count": 14,
     "metadata": {},
     "output_type": "execute_result"
    }
   ],
   "source": [
    "# the theorical mean and simulated mean\n",
    "(pickups.mean(), simulated_mean)"
   ]
  },
  {
   "cell_type": "code",
   "execution_count": 15,
   "metadata": {},
   "outputs": [
    {
     "data": {
      "text/plain": [
       "(26.336951228264823, 26.327169537452452)"
      ]
     },
     "execution_count": 15,
     "metadata": {},
     "output_type": "execute_result"
    }
   ],
   "source": [
    "# the theorical standard error and simulated standard error\n",
    "(pickups.std()/(30 ** 0.5), simulated_std)"
   ]
  },
  {
   "cell_type": "markdown",
   "metadata": {},
   "source": [
    "**Bootstrap Simulation**\n",
    "\n",
    " - **Statistic: Mean**"
   ]
  },
  {
   "cell_type": "markdown",
   "metadata": {},
   "source": [
    "_draw a sample from population_"
   ]
  },
  {
   "cell_type": "code",
   "execution_count": 16,
   "metadata": {},
   "outputs": [
    {
     "data": {
      "text/plain": [
       "array([435, 205, 348, 264,  91, 319, 270, 484, 445, 102, 319, 330, 385,\n",
       "        58, 419, 475, 343,   1,  34, 102, 443, 372, 445, 445,  80, 366,\n",
       "       419, 149, 264, 330])"
      ]
     },
     "execution_count": 16,
     "metadata": {},
     "output_type": "execute_result"
    }
   ],
   "source": [
    "sample = np.random.choice(pickups, size=30)\n",
    "sample"
   ]
  },
  {
   "cell_type": "markdown",
   "metadata": {},
   "source": [
    "_bootstrap for mean_"
   ]
  },
  {
   "cell_type": "code",
   "execution_count": 17,
   "metadata": {},
   "outputs": [],
   "source": [
    "boot_means = []\n",
    "for _ in range(10000):\n",
    "    bootsample = np.random.choice(sample,size=30, replace=True)\n",
    "    boot_means.append(bootsample.mean())"
   ]
  },
  {
   "cell_type": "markdown",
   "metadata": {},
   "source": [
    "_simulated mean of mean_\n"
   ]
  },
  {
   "cell_type": "code",
   "execution_count": 18,
   "metadata": {},
   "outputs": [
    {
     "data": {
      "text/plain": [
       "291.44874000000004"
      ]
     },
     "execution_count": 18,
     "metadata": {},
     "output_type": "execute_result"
    }
   ],
   "source": [
    "bootmean = np.mean(boot_means)\n",
    "bootmean"
   ]
  },
  {
   "cell_type": "markdown",
   "metadata": {},
   "source": [
    "_simulated standard deviation of mean_"
   ]
  },
  {
   "cell_type": "code",
   "execution_count": 19,
   "metadata": {},
   "outputs": [],
   "source": [
    "bootmean_std = np.std(boot_means)"
   ]
  },
  {
   "cell_type": "markdown",
   "metadata": {},
   "source": [
    "_simulated mean VS true mean_"
   ]
  },
  {
   "cell_type": "code",
   "execution_count": 20,
   "metadata": {},
   "outputs": [
    {
     "data": {
      "text/plain": [
       "(252.7, 291.44874000000004)"
      ]
     },
     "execution_count": 20,
     "metadata": {},
     "output_type": "execute_result"
    }
   ],
   "source": [
    "(pickups.mean(), bootmean)"
   ]
  },
  {
   "cell_type": "markdown",
   "metadata": {},
   "source": [
    "_the theorical standard error and simulated standard error_"
   ]
  },
  {
   "cell_type": "code",
   "execution_count": 21,
   "metadata": {},
   "outputs": [
    {
     "data": {
      "text/plain": [
       "(26.336951228264823, 26.85003412725247)"
      ]
     },
     "execution_count": 21,
     "metadata": {},
     "output_type": "execute_result"
    }
   ],
   "source": [
    "(pickups.std()/(30 ** 0.5), bootmean_std)"
   ]
  },
  {
   "cell_type": "markdown",
   "metadata": {},
   "source": [
    "#### javad vahdat `vahdatjavad@gmail.com`"
   ]
  }
 ],
 "metadata": {
  "kernelspec": {
   "display_name": "Python 3",
   "language": "python",
   "name": "python3"
  },
  "language_info": {
   "codemirror_mode": {
    "name": "ipython",
    "version": 3
   },
   "file_extension": ".py",
   "mimetype": "text/x-python",
   "name": "python",
   "nbconvert_exporter": "python",
   "pygments_lexer": "ipython3",
   "version": "3.8.5"
  }
 },
 "nbformat": 4,
 "nbformat_minor": 4
}

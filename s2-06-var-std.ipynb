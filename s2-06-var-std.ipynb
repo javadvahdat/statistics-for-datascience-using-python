{
 "cells": [
  {
   "cell_type": "markdown",
   "metadata": {},
   "source": [
    "<p style=\"text-align: center;\"><span style=\"font-family: 'Trebuchet MS', Helvetica, sans-serif;\"><strong><span style=\"font-size: 30px;\">Calculating&nbsp;</span><span style=\"font-size: 30px; color: rgb(209, 72, 65);\">Variance</span></strong></span><span style=\"font-family: 'Trebuchet MS', Helvetica, sans-serif;\"><strong><span style=\"font-size: 30px;\">&nbsp;and</span></strong></span></p>\n",
    "<p style=\"text-align: center;\"><span style=\"font-family: 'Trebuchet MS', Helvetica, sans-serif;\"><strong><span style=\"font-size: 30px;\">&nbsp;</span><span style=\"font-size: 30px; color: rgb(184, 49, 47);\">Standard Deviation&nbsp;</span><span style=\"font-size: 30px;\">in Python</span></strong></span></p>"
   ]
  },
  {
   "cell_type": "markdown",
   "metadata": {},
   "source": [
    "####  Javad vahdat  ------ vahdatjavad@gmail.com"
   ]
  },
  {
   "cell_type": "markdown",
   "metadata": {},
   "source": [
    "<p><strong><span style='font-family: \"Trebuchet MS\", Helvetica, sans-serif; font-size: 18px;'>Two closely related statistical measures will allow us to get an idea of the <span style=\"color: rgb(184, 49, 47);\">spread </span>or <span style=\"color: rgb(184, 49, 47);\">dispersion </span>of our data.</span></strong> </p>"
   ]
  },
  {
   "cell_type": "markdown",
   "metadata": {},
   "source": [
    "<ul>\n",
    "    <li><span style='font-family: \"Trebuchet MS\", Helvetica, sans-serif; font-size: 17px;'>&nbsp;The <span style=\"color: rgb(243, 121, 52);\"><strong>variance</strong></span>, which measures how far from their mean the individual observations in our data are.</span></li>\n",
    "    <li><span style='font-family: \"Trebuchet MS\", Helvetica, sans-serif; font-size: 17px;'>The <span style=\"color: rgb(243, 121, 52);\">standard deviation</span>, which is the <u>square root of the variance</u> and measures the amount of variation or dispersion of a dataset.</span></li>\n",
    "</ul>"
   ]
  },
  {
   "cell_type": "markdown",
   "metadata": {},
   "source": [
    " $\\sigma^2 = \\frac{1}{n} \\sum_{i=0}^{n-1} (x_i - \\mu)^2$"
   ]
  },
  {
   "cell_type": "markdown",
   "metadata": {},
   "source": [
    "Example:\n",
    "``` [32, 111, 138, 28, 59, 77, 97]```"
   ]
  },
  {
   "cell_type": "code",
   "execution_count": 1,
   "metadata": {},
   "outputs": [],
   "source": [
    "import numpy as np"
   ]
  },
  {
   "cell_type": "code",
   "execution_count": 2,
   "metadata": {},
   "outputs": [
    {
     "data": {
      "text/plain": [
       "1432.2448979591834"
      ]
     },
     "execution_count": 2,
     "metadata": {},
     "output_type": "execute_result"
    }
   ],
   "source": [
    "mydata = [32, 111, 138, 28, 59, 77, 97]\n",
    "np.var(mydata)"
   ]
  },
  {
   "cell_type": "markdown",
   "metadata": {},
   "source": [
    "How to calculate variance :"
   ]
  },
  {
   "cell_type": "code",
   "execution_count": 3,
   "metadata": {},
   "outputs": [
    {
     "data": {
      "text/plain": [
       "77.42857142857143"
      ]
     },
     "execution_count": 3,
     "metadata": {},
     "output_type": "execute_result"
    }
   ],
   "source": [
    "np.mean(mydata)"
   ]
  },
  {
   "cell_type": "markdown",
   "metadata": {},
   "source": [
    "```\n",
    "32  - 77.4 = -45.4 ^2 = 2061.16\n",
    "111 - 77.4 =  33.6 ^2 = 1128.96\n",
    "138 - 77.4 =  60.6 ^2 = 3672.36\n",
    "28  - 77.4 = -49.4 ^2 = 2440.36\n",
    "59  - 77.4 = -18.4 ^2 = 338.56\n",
    "77  - 77.4 = -0.4  ^2 = 0.16\n",
    "97  - 77.4 =  19.6 ^2 = 384.16\n",
    "_________________________\\/\\/__\n",
    "______________sum___ = 10025.72\n",
    "_______________________________\n",
    "______________mean__ = 10025.72 / 7 = 1432.24\n",
    "```"
   ]
  },
  {
   "cell_type": "markdown",
   "metadata": {},
   "source": [
    "$x_i - \\mu$ **is called deviation from the mean**"
   ]
  },
  {
   "cell_type": "markdown",
   "metadata": {},
   "source": [
    "- $S^2$**-sample variance** \n",
    "- $\\sigma^2$**-population variance** "
   ]
  },
  {
   "cell_type": "markdown",
   "metadata": {},
   "source": [
    "$S^2$ is commonly used to estimate the variance of a population ($\\sigma^2$)"
   ]
  },
  {
   "cell_type": "markdown",
   "metadata": {},
   "source": [
    "\\begin{equation}\n",
    "S^2_{n-1} = \\frac{1}{n-1}{\\sum_{i=0}^{n-1}{(x_i - X)^2}}\n",
    "\\end{equation}"
   ]
  },
  {
   "cell_type": "markdown",
   "metadata": {},
   "source": [
    "**Population variance**"
   ]
  },
  {
   "cell_type": "code",
   "execution_count": 4,
   "metadata": {},
   "outputs": [
    {
     "data": {
      "text/plain": [
       "1432.2448979591834"
      ]
     },
     "execution_count": 4,
     "metadata": {},
     "output_type": "execute_result"
    }
   ],
   "source": [
    "np.var(mydata,ddof=0)"
   ]
  },
  {
   "cell_type": "markdown",
   "metadata": {},
   "source": [
    "**Sample variance**"
   ]
  },
  {
   "cell_type": "code",
   "execution_count": 5,
   "metadata": {},
   "outputs": [
    {
     "data": {
      "text/plain": [
       "1670.9523809523807"
      ]
     },
     "execution_count": 5,
     "metadata": {},
     "output_type": "execute_result"
    }
   ],
   "source": [
    "np.var(mydata, ddof=1)"
   ]
  },
  {
   "cell_type": "markdown",
   "metadata": {},
   "source": [
    "<p><strong><span style='font-family: \"Trebuchet MS\", Helvetica, sans-serif; font-size: 18px;'>Standard Deviation</span></strong></p>"
   ]
  },
  {
   "cell_type": "markdown",
   "metadata": {},
   "source": [
    "Standard deviation is the square root of variance $\\sigma^2$ and is denoted as $\\sigma$."
   ]
  },
  {
   "cell_type": "markdown",
   "metadata": {},
   "source": [
    "\\begin{equation}\n",
    "\\sigma = \\sqrt{\\sigma^2}\n",
    "\\end{equation}\n",
    "\\begin{equation}\n",
    "S = \\sqrt{S^2}\n",
    "\\end{equation}"
   ]
  },
  {
   "cell_type": "markdown",
   "metadata": {},
   "source": [
    "**Low values of standard deviation tell us that individual values are closer to the mean.**"
   ]
  },
  {
   "cell_type": "markdown",
   "metadata": {},
   "source": [
    "**Population Standard deviation**"
   ]
  },
  {
   "cell_type": "code",
   "execution_count": 6,
   "metadata": {},
   "outputs": [
    {
     "data": {
      "text/plain": [
       "37.84501153334721"
      ]
     },
     "execution_count": 6,
     "metadata": {},
     "output_type": "execute_result"
    }
   ],
   "source": [
    "np.std(mydata, ddof=0)"
   ]
  },
  {
   "cell_type": "code",
   "execution_count": 7,
   "metadata": {},
   "outputs": [
    {
     "data": {
      "text/plain": [
       "[32, 111, 138, 28, 59, 77, 97]"
      ]
     },
     "execution_count": 7,
     "metadata": {},
     "output_type": "execute_result"
    }
   ],
   "source": [
    "mydata"
   ]
  },
  {
   "cell_type": "code",
   "execution_count": 8,
   "metadata": {},
   "outputs": [
    {
     "data": {
      "text/plain": [
       "77.42857142857143"
      ]
     },
     "execution_count": 8,
     "metadata": {},
     "output_type": "execute_result"
    }
   ],
   "source": [
    "np.mean(mydata)"
   ]
  },
  {
   "cell_type": "markdown",
   "metadata": {},
   "source": [
    "**Sample Standard deviation**"
   ]
  },
  {
   "cell_type": "code",
   "execution_count": 9,
   "metadata": {},
   "outputs": [
    {
     "data": {
      "text/plain": [
       "40.877284412646354"
      ]
     },
     "execution_count": 9,
     "metadata": {},
     "output_type": "execute_result"
    }
   ],
   "source": [
    "np.std(mydata, ddof=1)"
   ]
  },
  {
   "cell_type": "markdown",
   "metadata": {},
   "source": [
    "<p><br></p>\n",
    "<p><br></p>\n",
    "<p><br></p>\n",
    "<p><br></p>"
   ]
  },
  {
   "cell_type": "markdown",
   "metadata": {},
   "source": [
    "**Coding a variance() Function**"
   ]
  },
  {
   "cell_type": "code",
   "execution_count": 10,
   "metadata": {},
   "outputs": [
    {
     "data": {
      "text/plain": [
       "5.76"
      ]
     },
     "execution_count": 10,
     "metadata": {},
     "output_type": "execute_result"
    }
   ],
   "source": [
    "def variance(data):\n",
    "    # Number of observations\n",
    "    n = len(data)\n",
    "    # Mean of the data\n",
    "    mean = sum(data) / n\n",
    "    # Square deviations\n",
    "    deviations = [(x - mean) ** 2 for x in data]\n",
    "    # Variance\n",
    "    variance = sum(deviations) / n\n",
    "    return variance\n",
    "\n",
    "\n",
    "variance([4, 8, 6, 5, 3, 2, 8, 9, 2, 5])"
   ]
  },
  {
   "cell_type": "markdown",
   "metadata": {},
   "source": [
    "**Coding a sample variance() Function**(shortcode)"
   ]
  },
  {
   "cell_type": "code",
   "execution_count": 11,
   "metadata": {},
   "outputs": [
    {
     "data": {
      "text/plain": [
       "6.4"
      ]
     },
     "execution_count": 11,
     "metadata": {},
     "output_type": "execute_result"
    }
   ],
   "source": [
    "def variance(data, ddof=0):\n",
    "    n = len(data)\n",
    "    mean = sum(data) / n\n",
    "    return sum((x - mean) ** 2 for x in data) / (n - ddof)\n",
    "\n",
    "\n",
    "variance([4, 8, 6, 5, 3, 2, 8, 9, 2, 5], ddof=1)"
   ]
  },
  {
   "cell_type": "markdown",
   "metadata": {},
   "source": [
    "**Coding a stdev() Function**"
   ]
  },
  {
   "cell_type": "code",
   "execution_count": 12,
   "metadata": {},
   "outputs": [
    {
     "data": {
      "text/plain": [
       "2.5298221281347035"
      ]
     },
     "execution_count": 12,
     "metadata": {},
     "output_type": "execute_result"
    }
   ],
   "source": [
    "import math\n",
    "\n",
    "def stdev(data, ddof=0):\n",
    "     return math.sqrt(variance(data, ddof))\n",
    "    \n",
    "stdev([4, 8, 6, 5, 3, 2, 8, 9, 2, 5], ddof=1)"
   ]
  },
  {
   "cell_type": "markdown",
   "metadata": {},
   "source": [
    "####  Javad vahdat  ------ vahdatjavad@gmail.com"
   ]
  }
 ],
 "metadata": {
  "kernelspec": {
   "display_name": "Python 3",
   "language": "python",
   "name": "python3"
  },
  "language_info": {
   "codemirror_mode": {
    "name": "ipython",
    "version": 3
   },
   "file_extension": ".py",
   "mimetype": "text/x-python",
   "name": "python",
   "nbconvert_exporter": "python",
   "pygments_lexer": "ipython3",
   "version": "3.8.5"
  }
 },
 "nbformat": 4,
 "nbformat_minor": 4
}

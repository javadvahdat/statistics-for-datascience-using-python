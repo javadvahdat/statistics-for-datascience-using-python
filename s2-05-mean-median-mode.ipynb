{
 "cells": [
  {
   "cell_type": "markdown",
   "metadata": {},
   "source": [
    "<p style=\"text-align: center;\"><span style='font-family: \"Trebuchet MS\", Helvetica, sans-serif; font-size: 36px;'><strong>Central Tendency Measures</strong></span></p>"
   ]
  },
  {
   "cell_type": "markdown",
   "metadata": {},
   "source": [
    "<p style=\"text-align: center;\"><span style=\"font-family: Comic Sans MS, sans-serif;\"><span style=\"color: rgb(97, 189, 109);\"><strong>Mean&nbsp;</strong></span>- <span style=\"color: rgb(247, 218, 100);\"><strong>Median </strong></span>- <span style=\"color: rgb(163, 143, 132);\">Mode</span></span></p>"
   ]
  },
  {
   "cell_type": "markdown",
   "metadata": {},
   "source": [
    "####  Javad vahdat  ------ vahdatjavad@gmail.com"
   ]
  },
  {
   "cell_type": "markdown",
   "metadata": {},
   "source": [
    "<section><span style=\"font-family: 'Trebuchet MS', Helvetica, sans-serif;\"><strong><span style=\"font-size: 20px;\">Introduction</span></strong></span></section>\n",
    "<p style=\"text-align: justify;\"><span style=\"font-family: 'Trebuchet MS', Helvetica, sans-serif;\">When we&apos;re trying to describe and summarize a sample of data, we probably start by finding the <strong><span style=\"color: rgb(209, 72, 65);\">mean </span></strong>(or average), the <strong><span style=\"color: rgb(209, 72, 65);\">median</span></strong>, and the <strong><span style=\"color: rgb(209, 72, 65);\">mode </span></strong>of the data. These are <span style=\"color: rgb(209, 72, 65);\">central tendency </span> measures and are often our first look at a dataset.</span></p>"
   ]
  },
  {
   "cell_type": "markdown",
   "metadata": {},
   "source": [
    "<section><strong><span style='font-family: \"Trebuchet MS\", Helvetica, sans-serif; font-size: 22px;'>Calculating the <span style=\"color: rgb(184, 49, 47);\">Mean </span>of a Sample</span></strong></section> $\\bar{x} = \\frac{1}{n}\\Sigma_{i=1}^{n} x_i$"
   ]
  },
  {
   "cell_type": "code",
   "execution_count": 1,
   "metadata": {
    "scrolled": true
   },
   "outputs": [
    {
     "data": {
      "text/plain": [
       "5.2"
      ]
     },
     "execution_count": 1,
     "metadata": {},
     "output_type": "execute_result"
    }
   ],
   "source": [
    "(4 + 8 + 6 + 5 + 3 + 2 + 8 + 9 + 2 + 5) / 10"
   ]
  },
  {
   "cell_type": "markdown",
   "metadata": {},
   "source": [
    "<p><span style='font-family: \"Trebuchet MS\", Helvetica, sans-serif;'><strong><span style=\"font-size: 18px;\">Calculate with numpy module</strong></span></p>"
   ]
  },
  {
   "cell_type": "code",
   "execution_count": 2,
   "metadata": {},
   "outputs": [],
   "source": [
    "import numpy as np"
   ]
  },
  {
   "cell_type": "code",
   "execution_count": 3,
   "metadata": {},
   "outputs": [],
   "source": [
    "speed = [99,86,87,88,111,86,103,87,94,78,77,85,86]"
   ]
  },
  {
   "cell_type": "code",
   "execution_count": 4,
   "metadata": {},
   "outputs": [
    {
     "data": {
      "text/plain": [
       "89.76923076923077"
      ]
     },
     "execution_count": 4,
     "metadata": {},
     "output_type": "execute_result"
    }
   ],
   "source": [
    "np.mean(speed)"
   ]
  },
  {
   "cell_type": "markdown",
   "metadata": {},
   "source": [
    "<p><span style='font-family: \"Trebuchet MS\", Helvetica, sans-serif;'><strong><span style=\"font-size: 18px;\">Example: math score of two different classes</span></strong></span></p>"
   ]
  },
  {
   "cell_type": "code",
   "execution_count": 5,
   "metadata": {},
   "outputs": [
    {
     "data": {
      "text/plain": [
       "16.5"
      ]
     },
     "execution_count": 5,
     "metadata": {},
     "output_type": "execute_result"
    }
   ],
   "source": [
    "math_score1 = [8,5,18,19,20,18,20,19,18,20]\n",
    "np.mean(math_score1)"
   ]
  },
  {
   "cell_type": "code",
   "execution_count": 6,
   "metadata": {},
   "outputs": [
    {
     "data": {
      "text/plain": [
       "16.5"
      ]
     },
     "execution_count": 6,
     "metadata": {},
     "output_type": "execute_result"
    }
   ],
   "source": [
    "math_score2 = [12,17,14,18,19,20,17,20,16,12]\n",
    "np.mean(math_score2)"
   ]
  },
  {
   "cell_type": "markdown",
   "metadata": {},
   "source": [
    "<p><span style='font-family: \"Trebuchet MS\", Helvetica, sans-serif;'><strong><span style=\"color: rgb(97, 189, 109);\">good usage</span>:</strong> you buy 10 pounds of tomatoes - count the tomatoes and you get 25 tomatoes and you can say that the average weight of a tomato is 0.4 pounds. (cause they&apos;re almost the same weight each)</span></p>\n",
    "<p><span style='font-family: \"Trebuchet MS\", Helvetica, sans-serif;'><span style=\"color: rgb(235, 107, 86);\">not a good usage</span>: If you take the cumulated weight of all dogs and divide it by the number of dogs, then that would probably be a poor description of the weight of an individual dog(</span>cause they can range from a tiny Chihuahua to a giant German Mastiff.)</span></p>"
   ]
  },
  {
   "cell_type": "markdown",
   "metadata": {},
   "source": [
    "<section><strong><span style='font-family: \"Trebuchet MS\", Helvetica, sans-serif; font-size: 22px;'>Finding the <span style=\"color: rgb(184, 49, 47);\">Median </span>of a Sample</span></strong></section>"
   ]
  },
  {
   "cell_type": "markdown",
   "metadata": {},
   "source": [
    "<p><span style=\"font-family: 'Trebuchet MS', Helvetica, sans-serif;\">To find the median, we need to:</span></p>\n",
    "<ol>\n",
    "    <li><span style=\"font-family: 'Trebuchet MS', Helvetica, sans-serif;\">&nbsp;Sort the sample</span></li>\n",
    "    <li><span style=\"font-family: 'Trebuchet MS', Helvetica, sans-serif;\">&nbsp;Locate the value in the middle of the sorted sample</span></li>\n",
    "</ol>\n",
    "<p><span style=\"font-family: 'Trebuchet MS', Helvetica, sans-serif;\"><span style=\"color: rgb(184, 49, 47);\"><strong>odd </strong></span>number of observations <span style='color: rgb(199, 37, 78); font-family: Menlo, Monaco, Consolas, \"Courier New\", monospace; font-size: 16.2px; font-style: normal; font-variant-ligatures: normal; font-variant-caps: normal; font-weight: 400; letter-spacing: normal; orphans: 2; text-align: start; text-indent: 0px; text-transform: none; white-space: normal; widows: 2; word-spacing: 0px; -webkit-text-stroke-width: 0px; background-color: rgb(249, 242, 244); text-decoration-thickness: initial; text-decoration-style: initial; text-decoration-color: initial; display: inline !important; float: none;'>[3, 5, 1, 4, 2]</span>&nbsp; &gt;&gt; <span style='color: rgb(199, 37, 78); font-family: Menlo, Monaco, Consolas, \"Courier New\", monospace; font-size: 16.2px; font-style: normal; font-variant-ligatures: normal; font-variant-caps: normal; font-weight: 400; letter-spacing: normal; orphans: 2; text-align: start; text-indent: 0px; text-transform: none; white-space: normal; widows: 2; word-spacing: 0px; -webkit-text-stroke-width: 0px; background-color: rgb(249, 242, 244); text-decoration-thickness: initial; text-decoration-style: initial; text-decoration-color: initial; display: inline !important; float: none;'>[1, 2,&nbsp;</span><span style='color: rgb(0, 0, 0); font-family: Menlo, Monaco, Consolas, \"Courier New\", monospace; font-size: 16.2px; font-style: normal; font-variant-ligatures: normal; font-variant-caps: normal; font-weight: 400; letter-spacing: normal; orphans: 2; text-align: start; text-indent: 0px; text-transform: none; white-space: normal; widows: 2; word-spacing: 0px; -webkit-text-stroke-width: 0px; background-color: rgb(249, 242, 244); text-decoration-thickness: initial; text-decoration-style: initial; text-decoration-color: initial; float: none; display: inline !important;'><strong>3</strong></span><span style='color: rgb(199, 37, 78); font-family: Menlo, Monaco, Consolas, \"Courier New\", monospace; font-size: 16.2px; font-style: normal; font-variant-ligatures: normal; font-variant-caps: normal; font-weight: 400; letter-spacing: normal; orphans: 2; text-align: start; text-indent: 0px; text-transform: none; white-space: normal; widows: 2; word-spacing: 0px; -webkit-text-stroke-width: 0px; background-color: rgb(249, 242, 244); text-decoration-thickness: initial; text-decoration-style: initial; text-decoration-color: initial; display: inline !important; float: none;'>, 4, 5]</span>&nbsp;</span></p>\n",
    "<p><span style=\"font-family: 'Trebuchet MS', Helvetica, sans-serif;\"><span style=\"color: rgb(184, 49, 47);\"><strong>even </strong></span>number of observations <span style='color: rgb(199, 37, 78); font-family: Menlo, Monaco, Consolas, \"Courier New\", monospace; font-size: 16.2px; font-style: normal; font-variant-ligatures: normal; font-variant-caps: normal; font-weight: 400; letter-spacing: normal; orphans: 2; text-align: start; text-indent: 0px; text-transform: none; white-space: normal; widows: 2; word-spacing: 0px; -webkit-text-stroke-width: 0px; background-color: rgb(249, 242, 244); text-decoration-thickness: initial; text-decoration-style: initial; text-decoration-color: initial; display: inline !important; float: none;'>[1, 2, 3, 4, 5, 6] &gt;&gt; <code style='box-sizing: border-box; font-family: Menlo, Monaco, Consolas, \"Courier New\", monospace; font-size: 16.2px; padding: 2px 4px; color: rgb(199, 37, 78); background-color: rgb(249, 242, 244); border-radius: 4px; font-style: normal; font-variant-ligatures: normal; font-variant-caps: normal; font-weight: 400; letter-spacing: normal; orphans: 2; text-align: start; text-indent: 0px; text-transform: none; white-space: normal; widows: 2; word-spacing: 0px; -webkit-text-stroke-width: 0px; text-decoration-thickness: initial; text-decoration-style: initial; text-decoration-color: initial;'>(3 + 4) / 2 =3.5</code></span><br></span></p>\n",
    "<p><br></p>"
   ]
  },
  {
   "cell_type": "code",
   "execution_count": 7,
   "metadata": {
    "scrolled": true
   },
   "outputs": [
    {
     "data": {
      "text/plain": [
       "87.0"
      ]
     },
     "execution_count": 7,
     "metadata": {},
     "output_type": "execute_result"
    }
   ],
   "source": [
    "np.median(speed)"
   ]
  },
  {
   "cell_type": "code",
   "execution_count": 8,
   "metadata": {},
   "outputs": [
    {
     "data": {
      "text/plain": [
       "[99, 86, 87, 88, 111, 86, 103, 87, 94, 78, 77, 85, 86]"
      ]
     },
     "execution_count": 8,
     "metadata": {},
     "output_type": "execute_result"
    }
   ],
   "source": [
    "speed"
   ]
  },
  {
   "cell_type": "code",
   "execution_count": 9,
   "metadata": {},
   "outputs": [
    {
     "name": "stdout",
     "output_type": "stream",
     "text": [
      "length of speed =  13\n",
      "Mean of speed =  89.76923076923077\n",
      "original data >>  [99, 86, 87, 88, 111, 86, 103, 87, 94, 78, 77, 85, 86]\n",
      "sorted data   >>  [ 77  78  85  86  86  86  87  87  88  94  99 103 111]\n",
      "Median of speed =  87.0\n"
     ]
    }
   ],
   "source": [
    "print(\"length of speed = \",len(speed))\n",
    "print(\"Mean of speed = \",np.mean(speed))\n",
    "print(\"original data >> \", speed)\n",
    "print(\"sorted data   >> \", np.sort(speed))\n",
    "print(\"Median of speed = \",np.median(speed))"
   ]
  },
  {
   "cell_type": "markdown",
   "metadata": {},
   "source": [
    "<section><strong><span style='font-family: \"Trebuchet MS\", Helvetica, sans-serif; font-size: 22px;'>Finding the <span style=\"color: rgb(184, 49, 47);\">Mode </span>of a Sample</span></strong></section>"
   ]
  },
  {
   "cell_type": "markdown",
   "metadata": {},
   "source": [
    "<p><span style=\"font-family: 'Trebuchet MS', Helvetica, sans-serif;\">The <span style=\"color: rgb(184, 49, 47);\"><strong>mode </strong></span>is the most frequent observation (or observations) in a sample.</span></p>"
   ]
  },
  {
   "cell_type": "code",
   "execution_count": 10,
   "metadata": {},
   "outputs": [],
   "source": [
    "from scipy import stats"
   ]
  },
  {
   "cell_type": "code",
   "execution_count": 11,
   "metadata": {},
   "outputs": [
    {
     "data": {
      "text/plain": [
       "ModeResult(mode=array([86]), count=array([3]))"
      ]
     },
     "execution_count": 11,
     "metadata": {},
     "output_type": "execute_result"
    }
   ],
   "source": [
    "stats.mode(speed)"
   ]
  },
  {
   "cell_type": "code",
   "execution_count": 12,
   "metadata": {},
   "outputs": [],
   "source": [
    "test = [0,1,2,2,2,3,3,10,10,10,5,5,5,7]"
   ]
  },
  {
   "cell_type": "code",
   "execution_count": 13,
   "metadata": {},
   "outputs": [
    {
     "data": {
      "text/plain": [
       "ModeResult(mode=array([2]), count=array([3]))"
      ]
     },
     "execution_count": 13,
     "metadata": {},
     "output_type": "execute_result"
    }
   ],
   "source": [
    "stats.mode(test)"
   ]
  },
  {
   "cell_type": "markdown",
   "metadata": {},
   "source": [
    "<p><br></p>\n",
    "<p><br></p>\n",
    "<p><br></p>\n",
    "<p><br></p>\n",
    "<p><br></p>\n",
    "<p><br></p>\n",
    "<p><br></p>\n",
    "<p><br></p>\n"
   ]
  },
  {
   "cell_type": "markdown",
   "metadata": {},
   "source": [
    "####  Javad vahdat  ------ vahdatjavad@gmail.com"
   ]
  },
  {
   "cell_type": "markdown",
   "metadata": {},
   "source": [
    "<p><span style=\"font-family: 'Trebuchet MS', Helvetica, sans-serif;\"><strong><span style=\"font-size: 18px;\">If you want to code each of <span style=\"color: rgb(0, 0, 0); font-style: normal; font-variant-ligatures: normal; font-variant-caps: normal; font-weight: 400; letter-spacing: normal; orphans: 2; text-align: start; text-indent: 0px; text-transform: none; white-space: normal; widows: 2; word-spacing: 0px; -webkit-text-stroke-width: 0px; text-decoration-thickness: initial; text-decoration-style: initial; text-decoration-color: initial; float: none; display: inline !important;\">the&nbsp;</span><span style=\"color: rgb(184, 49, 47);\"><strong>Mean</strong></span>, <span style=\"color: rgb(184, 49, 47);\"><strong>Median </strong></span>and <span style=\"color: rgb(184, 49, 47);\"><strong>Mode </strong></span> can use these:</span></strong></span></p>"
   ]
  },
  {
   "cell_type": "markdown",
   "metadata": {},
   "source": [
    "<section><span style=\"color: rgb(0, 0, 0);\"><strong><span style='font-family: \"Trebuchet MS\", Helvetica, sans-serif; font-size: 19px;'>Mean</span></strong></span></section>"
   ]
  },
  {
   "cell_type": "code",
   "execution_count": 14,
   "metadata": {},
   "outputs": [
    {
     "data": {
      "text/plain": [
       "5.2"
      ]
     },
     "execution_count": 14,
     "metadata": {},
     "output_type": "execute_result"
    }
   ],
   "source": [
    "def my_mean(sample):\n",
    "     return sum(sample) / len(sample)\n",
    "\n",
    "my_mean([4, 8, 6, 5, 3, 2, 8, 9, 2, 5])\n"
   ]
  },
  {
   "cell_type": "markdown",
   "metadata": {},
   "source": [
    "<section><span style=\"color: rgb(0, 0, 0);\"><strong><span style='font-family: \"Trebuchet MS\", Helvetica, sans-serif; font-size: 19px;'>Median</span></strong></span></section>"
   ]
  },
  {
   "cell_type": "code",
   "execution_count": 15,
   "metadata": {},
   "outputs": [
    {
     "data": {
      "text/plain": [
       "3.5"
      ]
     },
     "execution_count": 15,
     "metadata": {},
     "output_type": "execute_result"
    }
   ],
   "source": [
    "def my_median(sample):\n",
    "    n = len(sample)\n",
    "    index = n // 2\n",
    "     # Sample with an odd number of observations\n",
    "    if n % 2:\n",
    "         return sorted(sample)[index]\n",
    "     # Sample with an even number of observations\n",
    "    return sum(sorted(sample)[index - 1:index + 1]) / 2\n",
    "\n",
    "\n",
    "my_median([3, 5, 1, 4, 2, 6])\n"
   ]
  },
  {
   "cell_type": "markdown",
   "metadata": {},
   "source": [
    "<section><span style=\"color: rgb(0, 0, 0);\"><strong><span style='font-family: \"Trebuchet MS\", Helvetica, sans-serif; font-size: 19px;'>Mode</span></strong></span></section>"
   ]
  },
  {
   "cell_type": "code",
   "execution_count": 16,
   "metadata": {},
   "outputs": [],
   "source": [
    "from collections import Counter\n",
    "\n",
    "def my_mode(sample):\n",
    "    c = Counter(sample)\n",
    "    return [k for k, v in c.items() if v == c.most_common(1)[0][1]]"
   ]
  },
  {
   "cell_type": "code",
   "execution_count": 17,
   "metadata": {},
   "outputs": [
    {
     "data": {
      "text/plain": [
       "['few', 'many']"
      ]
     },
     "execution_count": 17,
     "metadata": {},
     "output_type": "execute_result"
    }
   ],
   "source": [
    "my_mode([\"few\", \"few\", \"many\", \"some\", \"many\"])"
   ]
  },
  {
   "cell_type": "code",
   "execution_count": 18,
   "metadata": {},
   "outputs": [
    {
     "data": {
      "text/plain": [
       "[2]"
      ]
     },
     "execution_count": 18,
     "metadata": {},
     "output_type": "execute_result"
    }
   ],
   "source": [
    "my_mode([4, 1, 2, 2, 3, 5])"
   ]
  },
  {
   "cell_type": "code",
   "execution_count": 19,
   "metadata": {},
   "outputs": [
    {
     "data": {
      "text/plain": [
       "[4, 2]"
      ]
     },
     "execution_count": 19,
     "metadata": {},
     "output_type": "execute_result"
    }
   ],
   "source": [
    "my_mode([4, 1, 2, 2, 3, 5, 4])"
   ]
  },
  {
   "cell_type": "markdown",
   "metadata": {},
   "source": [
    "####  Javad vahdat  ------ vahdatjavad@gmail.com"
   ]
  }
 ],
 "metadata": {
  "kernelspec": {
   "display_name": "Python 3",
   "language": "python",
   "name": "python3"
  },
  "language_info": {
   "codemirror_mode": {
    "name": "ipython",
    "version": 3
   },
   "file_extension": ".py",
   "mimetype": "text/x-python",
   "name": "python",
   "nbconvert_exporter": "python",
   "pygments_lexer": "ipython3",
   "version": "3.8.5"
  }
 },
 "nbformat": 4,
 "nbformat_minor": 4
}
